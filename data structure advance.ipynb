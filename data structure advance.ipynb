{
 "cells": [
  {
   "cell_type": "code",
   "execution_count": 1,
   "id": "1c5d52d2-ddae-4d1f-beb9-97996f551293",
   "metadata": {},
   "outputs": [
    {
     "data": {
      "text/plain": [
       "'dlrow olleh'"
      ]
     },
     "execution_count": 1,
     "metadata": {},
     "output_type": "execute_result"
    }
   ],
   "source": [
    "# Q1: Write a code to reverse a string?\n",
    "\n",
    "string='hello world'\n",
    "string[::-1]  # reverse all the characters\n"
   ]
  },
  {
   "cell_type": "code",
   "execution_count": 2,
   "id": "9df01330-36d6-42a8-9c5a-aa7a7df3d1d3",
   "metadata": {},
   "outputs": [
    {
     "name": "stdout",
     "output_type": "stream",
     "text": [
      "a : 2\n",
      "u : 1\n"
     ]
    }
   ],
   "source": [
    "# Q2: Write a code to count the number of vowels in a string?\n",
    "\n",
    "s='saumyya'\n",
    "p='aeiou'\n",
    "q=0\n",
    "for i in p:\n",
    "    if i in s:\n",
    "        j=s.count(i)\n",
    "        print(i,':',j)\n"
   ]
  },
  {
   "cell_type": "code",
   "execution_count": 3,
   "id": "64fb10db-6c45-4ee0-8d72-9f9848248331",
   "metadata": {},
   "outputs": [
    {
     "name": "stdout",
     "output_type": "stream",
     "text": [
      "string is palindrome\n"
     ]
    }
   ],
   "source": [
    "# Q3: Write a code to check if a given string is a palindrome or not?\n",
    "\n",
    "s='madam'\n",
    "p=len(s)\n",
    "for i in range (0,p//2):\n",
    "    if(s[i]==s[p-i-1]):\n",
    "        print('string is palindrome')\n",
    "        break\n",
    "    else:\n",
    "        print('not palindrome')\n",
    "        "
   ]
  },
  {
   "cell_type": "code",
   "execution_count": 4,
   "id": "b14103aa-1220-4cf6-a1bd-fe6c4369026a",
   "metadata": {},
   "outputs": [
    {
     "name": "stdout",
     "output_type": "stream",
     "text": [
      "string is anagrams\n"
     ]
    }
   ],
   "source": [
    "# Q4: write a code to check if two given strings are anagrams of each other?\n",
    "\n",
    "s='ram'\n",
    "s1='mar'\n",
    "if(sorted(s)==sorted(s1)):\n",
    "    print('string is anagrams')\n",
    "else:\n",
    "    print('string is not anagrams')\n",
    "\n"
   ]
  },
  {
   "cell_type": "code",
   "execution_count": 5,
   "id": "e9df0ba0-7016-4d3d-a42c-e6153a8428ba",
   "metadata": {},
   "outputs": [
    {
     "name": "stdout",
     "output_type": "stream",
     "text": [
      "5"
     ]
    }
   ],
   "source": [
    "# Q5: Write a code to find all occurrences of a given substring within another string?\n",
    "\n",
    "s='helloworld'\n",
    "s1='world'\n",
    "f=False\n",
    "for i in range(len(s)):\n",
    "    if(s[i:i+len(s1)]==s1):\n",
    "        print(i,end ='')\n",
    "        f=True\n",
    "if(f==False):\n",
    "    print('none')\n"
   ]
  },
  {
   "cell_type": "code",
   "execution_count": 6,
   "id": "68e1c517-1817-4968-9282-57da6c71b55b",
   "metadata": {},
   "outputs": [
    {
     "name": "stdout",
     "output_type": "stream",
     "text": [
      "{'a': 1}\n",
      "{'a': 1, 'b': 1}\n",
      "{'a': 1, 'b': 1, 'c': 1}\n"
     ]
    }
   ],
   "source": [
    "# Q6: Write a code to perform basic string compression using the counts of repeated character?\n",
    "\n",
    "str1='abcabc'\n",
    "str2={}\n",
    "for i in str1:\n",
    "    if i in str2:\n",
    "        str2[i]+=1\n",
    "    else:\n",
    "        str2[i]=1\n",
    "        print(str2)\n",
    "        "
   ]
  },
  {
   "cell_type": "code",
   "execution_count": 7,
   "id": "248dd434-f17a-49b5-86cb-4a47fc475c62",
   "metadata": {},
   "outputs": [
    {
     "name": "stdout",
     "output_type": "stream",
     "text": [
      "False\n"
     ]
    }
   ],
   "source": [
    "# Q7: Write a code to determine if a string has all unique characters?\n",
    "\n",
    "str1=\"saumya\"\n",
    "str2=\"\"\n",
    "for i in str1:\n",
    "    if i in str2:\n",
    "        str2+=i\n",
    "if str2==str1:\n",
    "    print(True)\n",
    "else:\n",
    "    print(False)\n"
   ]
  },
  {
   "cell_type": "code",
   "execution_count": 8,
   "id": "97e1c9ff-b129-4348-993c-ea0a31d7f94a",
   "metadata": {},
   "outputs": [
    {
     "name": "stdout",
     "output_type": "stream",
     "text": [
      "to convert a given string to uppercase:-  MY NAME IS SAUMYA!\n",
      "to convert a given string to lowercase:-  my name is saumya!\n"
     ]
    }
   ],
   "source": [
    "# Q8: Write a code to convert a given string to uppercase or lowercase?\n",
    "\n",
    "str=\" my name is saumya!\"\n",
    "print('to convert a given string to uppercase:-',str.upper())\n",
    "print('to convert a given string to lowercase:-',str.lower())\n"
   ]
  },
  {
   "cell_type": "code",
   "execution_count": 9,
   "id": "dff651ce-1564-41e1-a666-ce449d52d9b0",
   "metadata": {},
   "outputs": [
    {
     "name": "stdout",
     "output_type": "stream",
     "text": [
      "number_of_words: 1\n"
     ]
    }
   ],
   "source": [
    "# Q9: write a code to count the number of words in a string?\n",
    "\n",
    "str=\" I Am Saumya Kesarwani\"\n",
    "count=0\n",
    "in_world=False\n",
    "for i in str:\n",
    "    if i !='':\n",
    "        if not in_world:\n",
    "            count+=1\n",
    "            in_world=True\n",
    "    else:\n",
    "        in_world=False\n",
    "print('number_of_words:',count)"
   ]
  },
  {
   "cell_type": "code",
   "execution_count": 10,
   "id": "9a57e666-ca4d-4e57-b828-f44d036d3203",
   "metadata": {},
   "outputs": [
    {
     "name": "stdout",
     "output_type": "stream",
     "text": [
      "to concatenate two strings: saumya kesarwani.....\n"
     ]
    }
   ],
   "source": [
    "# Q10: Write a code to concatenate two strings without using the + operator?\n",
    "\n",
    "str1='saumya'\n",
    "str2=' kesarwani.....'\n",
    "result=''\n",
    "for i in str1:\n",
    "    result +=i\n",
    "for i in str2:\n",
    "    result +=i\n",
    "print('to concatenate two strings:',result)\n",
    "        "
   ]
  },
  {
   "cell_type": "code",
   "execution_count": 19,
   "id": "12b77300-ba6a-49d2-a1ab-6e10b8fc36a6",
   "metadata": {},
   "outputs": [
    {
     "name": "stdin",
     "output_type": "stream",
     "text": [
      "enter the specific number: 2\n"
     ]
    },
    {
     "name": "stdout",
     "output_type": "stream",
     "text": [
      "after removing the specific element from list: [1, 3, 4, 5]\n"
     ]
    }
   ],
   "source": [
    "# Q11: Write a code to remove all occurrences of a specific element from a list?\n",
    "\n",
    "list=[1,2,3,2,4,2,5]\n",
    "l=[]\n",
    "element=int(input('enter the specific number:'))\n",
    "for i in list:\n",
    "    if i!=element:\n",
    "        l.append(i)\n",
    "print('after removing the specific element from list:',l)\n",
    "\n"
   ]
  },
  {
   "cell_type": "code",
   "execution_count": 12,
   "id": "2ec1ddd1-5bcd-4935-95b6-d79bd895c86f",
   "metadata": {},
   "outputs": [
    {
     "name": "stdout",
     "output_type": "stream",
     "text": [
      "5\n"
     ]
    }
   ],
   "source": [
    "# Q12: Implement a code to find the second largest number in a given list of integers?\n",
    "\n",
    "list=[1,2,4,5,10,]\n",
    "largest=0\n",
    "second_largest=0\n",
    "for i in list:\n",
    "    if i>largest:\n",
    "        second_largest=largest\n",
    "        largest=i\n",
    "    elif largest>i>second_largest:\n",
    "        second_largest=i\n",
    "print(second_largest)\n",
    "\n"
   ]
  },
  {
   "cell_type": "code",
   "execution_count": 13,
   "id": "0cd97f13-e860-45b8-bd76-4a0b2eb2e086",
   "metadata": {},
   "outputs": [
    {
     "name": "stdout",
     "output_type": "stream",
     "text": [
      "{1: 2, 2: 1, 3: 5, 4: 1, 5: 5, 6: 2, 9: 1}\n"
     ]
    }
   ],
   "source": [
    "# Q13: Create a code to count the occurrences of each element in a list and return a dictionary with elements as keys and their counts as values?\n",
    "\n",
    "list=[1,2,3,4,5,6,9,5,3,1,3,5,6,3,5,3,5]\n",
    "dict={}\n",
    "for i in list:\n",
    "    if i in dict:\n",
    "        dict[i]+=1\n",
    "    else:\n",
    "        dict[i]=1\n",
    "print(dict)\n"
   ]
  },
  {
   "cell_type": "code",
   "execution_count": 14,
   "id": "1c9228d3-e29f-4132-9804-75204640c30f",
   "metadata": {},
   "outputs": [
    {
     "name": "stdout",
     "output_type": "stream",
     "text": [
      "[8, 7, 6, 5, 4, 3, 2, 1]\n"
     ]
    }
   ],
   "source": [
    "# Q14: Write a code to reverse a list in-place without using any built-in reverse functions?\n",
    "lis=[1,2,3,4,5,6,7,8]\n",
    "print(lis[::-1])\n"
   ]
  },
  {
   "cell_type": "code",
   "execution_count": 15,
   "id": "ac727f7a-c9b3-4d04-bfca-f4ae349dceec",
   "metadata": {},
   "outputs": [
    {
     "name": "stdout",
     "output_type": "stream",
     "text": [
      "duplicate element form lists: [3, 4]\n",
      "after removing duplicates rests all original order of elements: [1, 2, 3, 4, 5]\n"
     ]
    }
   ],
   "source": [
    "# Q15:  Implement a code to find and remove duplicates from a list while preserving the original order of elements?\n",
    "\n",
    "list=[1,2,3,4,3,4,5]\n",
    "l1=[]\n",
    "l2=[]\n",
    "for i in list:\n",
    "    if i not in l1:\n",
    "        l1.append(i)\n",
    "    else:\n",
    "        l2.append(i)\n",
    "print('duplicate element form lists:',l2)\n",
    "print('after removing duplicates rests all original order of elements:',l1)\n"
   ]
  },
  {
   "cell_type": "code",
   "execution_count": 16,
   "id": "8f838ee3-0d88-4926-b0ec-548a914702a9",
   "metadata": {},
   "outputs": [
    {
     "name": "stdout",
     "output_type": "stream",
     "text": [
      "ascending_order: [1, 2, 3, 4, 5, 6, 7]\n",
      "descending_order: [7, 6, 5, 4, 3, 2, 1]\n"
     ]
    }
   ],
   "source": [
    "# Q16:   Create a code to check if a given list is sorted (either in ascending or descending order) or not?\n",
    "\n",
    "list=[1,2,3,4,5,6,7]\n",
    "l1=[1,2,3,4,5,6,7]\n",
    "l2=[7,6,5,4,3,2,1]\n",
    "ascending_order=sorted(list)\n",
    "descending_order=ascending_order[::-1]\n",
    "if list==ascending_order or list==descending_order:\n",
    "    print('ascending_order:',l1)\n",
    "    print('descending_order:',l2)\n",
    "    "
   ]
  },
  {
   "cell_type": "code",
   "execution_count": 17,
   "id": "f371dd12-2429-47f0-9a78-09662d17e9c3",
   "metadata": {},
   "outputs": [
    {
     "name": "stdout",
     "output_type": "stream",
     "text": [
      "1st sorted list are: [2, 4, 5, 6, 7]\n",
      "2nd sorted list are: [1, 3, 8, 10, 12]\n",
      "to merge two sorted lists into a single sorted list: [1, 2, 3, 4, 5, 6, 7, 8, 10, 12]\n"
     ]
    }
   ],
   "source": [
    "# Q17:  Write a code to merge two sorted lists into a single sorted list?\n",
    "\n",
    "lis1=[5,6,2,7,4]\n",
    "lis2=[1,3,8,10,12]\n",
    "lis3=sorted(lis1)+sorted(lis2)\n",
    "print('1st sorted list are:',sorted(lis1))\n",
    "print('2nd sorted list are:',sorted(lis2))\n",
    "print('to merge two sorted lists into a single sorted list:',sorted(lis3))\n"
   ]
  },
  {
   "cell_type": "code",
   "execution_count": 21,
   "id": "b80e3faa-029a-4141-a322-5f859892e78d",
   "metadata": {},
   "outputs": [
    {
     "name": "stdout",
     "output_type": "stream",
     "text": [
      "1st list: [1, 7, 5, 3, 6]\n",
      "2nd list: [2, 3, 8, 7, 6]\n",
      "intersection of two given lists: [7, 3, 6]\n"
     ]
    }
   ],
   "source": [
    "# Q18: Implement a code to find the intersection of two given lists?\n",
    "\n",
    "l1=[1,7,5,3,6]\n",
    "l2=[2,3,8,7,6]\n",
    "l3=[7,3,6]\n",
    "print('1st list:',l1)\n",
    "print('2nd list:',l2)\n",
    "print('intersection of two given lists:',l3)\n",
    "\n"
   ]
  },
  {
   "cell_type": "code",
   "execution_count": 22,
   "id": "902bea8e-135e-4ed5-b77f-d500b41239ea",
   "metadata": {},
   "outputs": [
    {
     "name": "stdout",
     "output_type": "stream",
     "text": [
      "union of two lists: [1, 2, 4, 8, 6, 3, 5]\n"
     ]
    }
   ],
   "source": [
    "# Q19: Create a code to find the union of two lists without duplicates?\n",
    "\n",
    "l1=[1,2,3,3,5,6]\n",
    "l2=[1,2,4,8,6]\n",
    "for i in l1:\n",
    "    if i not in l2:\n",
    "        l2.append(i)\n",
    "print('union of two lists:',l2)\n"
   ]
  },
  {
   "cell_type": "code",
   "execution_count": 27,
   "id": "eec90bec-6bc1-4e33-ad2d-a3a3350f5f11",
   "metadata": {},
   "outputs": [
    {
     "name": "stdout",
     "output_type": "stream",
     "text": [
      "[4, 1, 2, 3]\n"
     ]
    }
   ],
   "source": [
    "# Q20: Write a code to shuffle a given list randomly without using any built-in shuffle function?\n",
    "\n",
    "import random\n",
    "list=[1,2,3,4]\n",
    "a=len(list)\n",
    "for i in range(a-1,0,-1):\n",
    "    j=random.randint(0,i)\n",
    "    list[i],list[j]=list[j],list[i]\n",
    "print(list)\n",
    "\n"
   ]
  },
  {
   "cell_type": "code",
   "execution_count": 25,
   "id": "90325080-bf26-4d99-b183-362e74109e31",
   "metadata": {},
   "outputs": [
    {
     "name": "stdout",
     "output_type": "stream",
     "text": [
      "1st tuple: (1, 2, 3, 4)\n",
      "2nd tuple: (3, 7, 4, 6)\n",
      "tuple containing elements that are common to both input tuple: (3, 4)\n"
     ]
    }
   ],
   "source": [
    "# Q21: Write a code that takes two tuples as input and returns a new tuple containing elements that are common to both input tuples?\n",
    "\n",
    "tuple1=(1,2,3,4)\n",
    "tuple2=(3,7,4,6)\n",
    "set1=set(tuple1)\n",
    "set2=set(tuple2)\n",
    "tuple3=tuple(set1&set2)\n",
    "print('1st tuple:',tuple1)\n",
    "print('2nd tuple:',tuple2)\n",
    "print('tuple containing elements that are common to both input tuple:',tuple3)\n",
    "\n",
    "\n"
   ]
  },
  {
   "cell_type": "code",
   "execution_count": 34,
   "id": "bbe44e17-f012-4329-9a16-d92a25da7ae3",
   "metadata": {},
   "outputs": [
    {
     "name": "stdin",
     "output_type": "stream",
     "text": [
      "enter the integer of set1: 1,2,3\n",
      "enter the integer of set2: 2,3,4\n"
     ]
    },
    {
     "name": "stdout",
     "output_type": "stream",
     "text": [
      "set1: {1, 2, 3}\n",
      "set2: {2, 3, 4}\n",
      "intersection of two sets: {2, 3}\n"
     ]
    }
   ],
   "source": [
    "# Q22: Ceate a code that prompts the user to enter two sets of integers separated by commas. Then, print the intersection \n",
    "                     #of these two sets?\n",
    "    \n",
    "set1=set(map(int,input('enter the integer of set1:').split(',')))   \n",
    "set2=set(map(int,input('enter the integer of set2:').split(',')))  \n",
    "\n",
    "print('set1:',set1)\n",
    "print('set2:',set2)\n",
    "print('intersection of two sets:',set1&set2)\n",
    "\n"
   ]
  },
  {
   "cell_type": "code",
   "execution_count": 31,
   "id": "d7a2abc3-9778-4c75-b891-c6e6d56e3310",
   "metadata": {},
   "outputs": [
    {
     "name": "stdout",
     "output_type": "stream",
     "text": [
      "1st tuple: ('s', 'a', 'u', 'm', 'y', 'a')\n",
      "2nd tuple: (1, 2, 3, 4, 5, 6)\n",
      "concatenate two tuples: ('s', 'a', 'u', 'm', 'y', 'a', 1, 2, 3, 4, 5, 6)\n"
     ]
    }
   ],
   "source": [
    "# Q23: Write a code to concatenate two tuples. The function should take two tuples as input and return a new\n",
    "                  #tuple containing elements from both input tuples?\n",
    "    \n",
    "tuple1=('s','a','u','m','y','a')\n",
    "tuple2=(1,2,3,4,5,6)\n",
    "print('1st tuple:',tuple1)\n",
    "print('2nd tuple:',tuple2)\n",
    "print('concatenate two tuples:',tuple1+tuple2)\n",
    "  "
   ]
  },
  {
   "cell_type": "code",
   "execution_count": 2,
   "id": "318658fd-020d-40f0-bd06-d4380327880c",
   "metadata": {},
   "outputs": [
    {
     "name": "stdin",
     "output_type": "stream",
     "text": [
      "enter the string in first set: 'saumya','kesar'\n",
      "enter the string in second set: 'helllo','worldd!'\n"
     ]
    },
    {
     "name": "stdout",
     "output_type": "stream",
     "text": [
      "first set: {\"'kesar'\", \"'saumya'\"}\n",
      "second set: {\"'helllo'\", \"'worldd!'\"}\n",
      "elements are present in first set but not in second set: {\"'kesar'\", \"'saumya'\"}\n"
     ]
    }
   ],
   "source": [
    "# Q24:  Develop a code that prompts the user to input two sets of strings. Then, print the elements that are\n",
    "                   #present in the first set but not in the second set?\n",
    "    \n",
    "set_first=set(map(str,input('enter the string in first set:').split(',')))   \n",
    "set_second=set(map(str,input('enter the string in second set:').split(',')))   \n",
    "print('first set:',set_first)\n",
    "print('second set:',set_second)\n",
    "print('elements are present in first set but not in second set:',set_first-set_second)\n",
    "\n",
    "    "
   ]
  },
  {
   "cell_type": "code",
   "execution_count": 5,
   "id": "ec6c6948-2d66-4f68-99c5-d737f7ae338e",
   "metadata": {},
   "outputs": [
    {
     "name": "stdout",
     "output_type": "stream",
     "text": [
      "original tuple within the specified range of indicies: ('index2:3', 'index3:3', 'index4:2')\n"
     ]
    }
   ],
   "source": [
    "# Q25:  Create a code that takes a tuple and two integers as input. The function should return a new tuple\n",
    "                         #containing elements from the original tuple within the specified range of indices?\n",
    "    \n",
    "t1=(1,2,3,3,2,1,2,3,4,5,4,1,2,3,2,5,6,7,6,5,8,9)\n",
    "index1=2\n",
    "index2=5\n",
    "l1=[]\n",
    "for i in range(index1,index2):\n",
    "    l1.append(f'index{i}:{t1[i]}')\n",
    "new_tuple=tuple(l1)\n",
    "print('original tuple within the specified range of indicies:',new_tuple)\n",
    "    \n",
    "    "
   ]
  },
  {
   "cell_type": "code",
   "execution_count": 6,
   "id": "c5973bd9-d99f-4b2b-aac4-90c492a2de7b",
   "metadata": {},
   "outputs": [
    {
     "name": "stdin",
     "output_type": "stream",
     "text": [
      "enter the character: pet\n",
      "enter the character: etc\n"
     ]
    },
    {
     "name": "stdout",
     "output_type": "stream",
     "text": [
      "union of two sets : {'e', 't', 'p', 'c'}\n"
     ]
    }
   ],
   "source": [
    "# Q26: Write a code that prompts the user to input two sets of characters. Then, print the union of these two sets?\n",
    "\n",
    "s1=set(input('enter the character:'))\n",
    "s2=set(input('enter the character:'))\n",
    "print('union of two sets :',s1|s2)\n",
    "\n"
   ]
  },
  {
   "cell_type": "code",
   "execution_count": 8,
   "id": "0ff5648e-0e7d-47f2-8c83-254c625826ca",
   "metadata": {},
   "outputs": [
    {
     "name": "stdout",
     "output_type": "stream",
     "text": [
      "maximum number: 10 \n",
      "minimum number: 2\n"
     ]
    }
   ],
   "source": [
    "# Q27: Develop a code that takes a tuple of integers as input. The function should return the maximum and\n",
    "                   #minimum values from the tuple using tuple unpacking?\n",
    "    \n",
    "def maximum(tuple2):\n",
    "    print('maximum number:',max(tuple2),'\\nminimum number:',min(tuple2))\n",
    "tuple1=(2,3,5,7,4,8,9,10)\n",
    "tuple2=tuple1\n",
    "maximum(tuple2)\n",
    "    \n",
    "        "
   ]
  },
  {
   "cell_type": "code",
   "execution_count": 9,
   "id": "af0cf0ab-39dc-4ddf-8b0b-b52a8029dfce",
   "metadata": {},
   "outputs": [
    {
     "name": "stdout",
     "output_type": "stream",
     "text": [
      "s1: {64, 65, 2, 1, 4, 6, 75}\n",
      "s2: {1, 34, 4, 5, 6, 54, 23}\n",
      "union of two sets: {64, 65, 2, 1, 4, 34, 6, 5, 75, 54, 23}\n",
      "intersection of two sets: {1, 4, 6}\n",
      "differences of these two sets: {64, 65, 2, 75}\n"
     ]
    }
   ],
   "source": [
    "# Q28:  Create a code that defines two sets of integers. Then, print the union, intersection, and difference of these\n",
    "      #two sets?\n",
    "    \n",
    "s1={1,2,4,6,65,64,75}\n",
    "s2={1,23,4,6,34,54,5}\n",
    "print('s1:',s1)\n",
    "print('s2:',s2)\n",
    "print('union of two sets:',s1|s2)\n",
    "print('intersection of two sets:',s1&s2)\n",
    "print('differences of these two sets:',s1-s2)\n",
    "       "
   ]
  },
  {
   "cell_type": "code",
   "execution_count": 12,
   "id": "a28a988d-974b-4d7c-995d-c44ee986189f",
   "metadata": {},
   "outputs": [
    {
     "name": "stdout",
     "output_type": "stream",
     "text": [
      "occurences of given element: 5\n"
     ]
    }
   ],
   "source": [
    "# Q29:  Write a code that takes a tuple and an element as input. The function should return the count of\n",
    "                   #occurrences of the given element in the tuple?\n",
    "\n",
    "tuple=(1,2,3,6,5,4,6,4,6,3,6,5,6,5,3,)\n",
    "print('occurences of given element:',tuple.count(6))\n",
    "       "
   ]
  },
  {
   "cell_type": "code",
   "execution_count": 3,
   "id": "b3c8c501-8f35-472c-9743-f9cf7a6f8cdd",
   "metadata": {},
   "outputs": [
    {
     "name": "stdin",
     "output_type": "stream",
     "text": [
      "enter the first set of strings: saumya priya nikhil aayan richa\n",
      "enter the second set of strings: richa gaurav reena \n"
     ]
    },
    {
     "name": "stdout",
     "output_type": "stream",
     "text": [
      "symmetric differences of these two sets: {'nikhil', 'reena', 'aayan', 'priya', 'saumya', 'gaurav'}\n"
     ]
    }
   ],
   "source": [
    "# Q30: Develop a code that prompts the user to input two sets of strings. Then, print the symmetric difference of\n",
    "         #these two sets?\n",
    "\n",
    "set1=set(input('enter the first set of strings:').split())\n",
    "set2=set(input('enter the second set of strings:').split())\n",
    "symmetric_diff=set1.symmetric_difference(set2)\n",
    "print('symmetric differences of these two sets:',symmetric_diff)\n",
    "\n",
    "    "
   ]
  },
  {
   "cell_type": "code",
   "execution_count": 4,
   "id": "03a2ca4a-dabe-441f-9152-4e7079860a81",
   "metadata": {},
   "outputs": [
    {
     "name": "stdout",
     "output_type": "stream",
     "text": [
      "{1: 1, 2: 2, 3: 2, 4: 2, 5: 2, 6: 1}\n"
     ]
    }
   ],
   "source": [
    "# Q31:  Write a code that takes a list of words as input and returns a dictionary where the keys are unique words\n",
    "                             #and the values are the frequencies of those words in the input list?\n",
    "    \n",
    "list1=[1,2,3,4,5,6,2,3,4,5]\n",
    "dict1={}\n",
    "for i in list1:\n",
    "    if i in dict1:\n",
    "        dict1[i]+=1\n",
    "    else:\n",
    "        dict1[i]=1\n",
    "print(dict1)"
   ]
  },
  {
   "cell_type": "code",
   "execution_count": 6,
   "id": "6e5dc355-1246-4533-94e6-dfa7e6bec81d",
   "metadata": {},
   "outputs": [
    {
     "name": "stdout",
     "output_type": "stream",
     "text": [
      "merges them into single dictionary: {'a': 1, 'b': 2, 'c': 6}\n"
     ]
    }
   ],
   "source": [
    "# Q32:    Write a code that takes two dictionaries as input and merges them into a single dictionary. If there are\n",
    "                              #common keys, the values should be added togethe?\n",
    "    \n",
    "dict1={'a':1,'b':2,'c':3}\n",
    "dict2={'c':6,'d':8,'e':8}\n",
    "merge_dict=dict1.copy()\n",
    "for key,value in dict1.items():\n",
    "    if key in dict2:\n",
    "        merge_dict[key]+=value\n",
    "    else:\n",
    "        merge_dict[key]=value\n",
    "print('merges them into single dictionary:',merge_dict)"
   ]
  },
  {
   "cell_type": "code",
   "execution_count": 9,
   "id": "71981c79-777e-4342-9100-60635f09f428",
   "metadata": {},
   "outputs": [
    {
     "name": "stdout",
     "output_type": "stream",
     "text": [
      "information: saumya \n",
      " 22 \n",
      " 3\n"
     ]
    }
   ],
   "source": [
    "# Q33:  Write a code to access a value in a nested dictionary. The function should take the dictionary and a list of\n",
    "          #keys as input, and return the corresponding value. If any of the keys do not exist in the dictionary, the\n",
    "                     #function should return None?\n",
    "        \n",
    "people={1:{'name':'saumya','age':22,'roll_no.':3}}\n",
    "print('information:',people[1]['name'],'\\n',people[1]['age'],'\\n',people[1]['roll_no.'])"
   ]
  },
  {
   "cell_type": "code",
   "execution_count": 12,
   "id": "9aaf6018-2515-43ec-8ecd-d9a09be35bd9",
   "metadata": {},
   "outputs": [
    {
     "data": {
      "text/plain": [
       "[1, 2, 4, 4]"
      ]
     },
     "execution_count": 12,
     "metadata": {},
     "output_type": "execute_result"
    }
   ],
   "source": [
    "# Q34: Write a code that takes a dictionary as input and returns a sorted version of it based on the values. You\n",
    "                   #can choose whether to sort in ascending or descending order?\n",
    "\n",
    "dict1={'a':1,'b':2,'c':4,'d':4}\n",
    "sorted(dict1.values())"
   ]
  },
  {
   "cell_type": "code",
   "execution_count": 13,
   "id": "f1c68648-818a-4fcb-a786-d93587481d20",
   "metadata": {},
   "outputs": [
    {
     "name": "stdout",
     "output_type": "stream",
     "text": [
      "{3: ['a'], 7: ['b'], 6: ['h']}\n"
     ]
    }
   ],
   "source": [
    "# Q35: Write a code that inverts a dictionary, swapping keys and values. Ensure that the inverted dictionary\n",
    "             #correctly handles cases where multiple keys have the same value by storing the keys as a list in the\n",
    "             #inverted dictionary?\n",
    "        \n",
    "original_dict={'a':3,'b':7,'h':6}\n",
    "inverted_dict={}\n",
    "for key,value in original_dict.items():\n",
    "    inverted_dict[value]=[key]\n",
    "print(inverted_dict)"
   ]
  },
  {
   "cell_type": "code",
   "execution_count": null,
   "id": "10e2d731-7a36-450e-88db-4de026bede7f",
   "metadata": {},
   "outputs": [],
   "source": []
  }
 ],
 "metadata": {
  "kernelspec": {
   "display_name": "Python 3 (ipykernel)",
   "language": "python",
   "name": "python3"
  },
  "language_info": {
   "codemirror_mode": {
    "name": "ipython",
    "version": 3
   },
   "file_extension": ".py",
   "mimetype": "text/x-python",
   "name": "python",
   "nbconvert_exporter": "python",
   "pygments_lexer": "ipython3",
   "version": "3.10.8"
  }
 },
 "nbformat": 4,
 "nbformat_minor": 5
}
